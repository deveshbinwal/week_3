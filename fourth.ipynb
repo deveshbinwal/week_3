{
 "cells": [
  {
   "cell_type": "markdown",
   "id": "0e3dd34a-1496-4822-9514-34d1288ad10a",
   "metadata": {},
   "source": [
    "Q4. What is a generator function in python? Why yield keyword is used? Give an example of a generator\n",
    "function."
   ]
  },
  {
   "cell_type": "markdown",
   "id": "648a2edb-a50b-488e-bd1f-f6e2d1c312db",
   "metadata": {},
   "source": [
    "A generator function is a special type of function that returns an iterator object called a generator. It allows you to define an iterator in a more concise and elegant way compared to using regular iterator classes. Generator functions use the yield keyword to produce a sequence of values instead of return.\n",
    "\n",
    "The yield keyword is used in a generator function to indicate where the generator should pause its execution and yield a value to the caller. When a generator function is called, it returns a generator object that can be iterated over. Each time the yield statement is encountered during iteration, the generator function's state is saved, and the yielded value is returned to the caller. The next time the generator is iterated, it resumes execution from where it left off, instead of starting from the beginning of the function."
   ]
  },
  {
   "cell_type": "code",
   "execution_count": 10,
   "id": "f0cd33a7-0cfa-493a-863b-d1a6e21d42b9",
   "metadata": {},
   "outputs": [],
   "source": [
    "def fibo(k):\n",
    "    a,b=0,1\n",
    "    for i in range(k):\n",
    "        yield a\n",
    "        a,b=b,a+b"
   ]
  },
  {
   "cell_type": "code",
   "execution_count": 11,
   "id": "ead82dca-5756-4f87-83b7-aa4ed320f023",
   "metadata": {},
   "outputs": [
    {
     "data": {
      "text/plain": [
       "<generator object fibo at 0x7fb626d64970>"
      ]
     },
     "execution_count": 11,
     "metadata": {},
     "output_type": "execute_result"
    }
   ],
   "source": [
    "fibo(10)"
   ]
  },
  {
   "cell_type": "code",
   "execution_count": 12,
   "id": "2a6a126a-ca2e-4c59-a746-e108e7980b74",
   "metadata": {},
   "outputs": [
    {
     "name": "stdout",
     "output_type": "stream",
     "text": [
      "0\n",
      "1\n",
      "1\n",
      "2\n",
      "3\n",
      "5\n",
      "8\n",
      "13\n",
      "21\n",
      "34\n"
     ]
    }
   ],
   "source": [
    "for i in fibo(10):\n",
    "    print(i)"
   ]
  },
  {
   "cell_type": "code",
   "execution_count": null,
   "id": "eaafda09-202a-4cd1-842c-2cbf67331153",
   "metadata": {},
   "outputs": [],
   "source": []
  }
 ],
 "metadata": {
  "kernelspec": {
   "display_name": "Python 3 (ipykernel)",
   "language": "python",
   "name": "python3"
  },
  "language_info": {
   "codemirror_mode": {
    "name": "ipython",
    "version": 3
   },
   "file_extension": ".py",
   "mimetype": "text/x-python",
   "name": "python",
   "nbconvert_exporter": "python",
   "pygments_lexer": "ipython3",
   "version": "3.10.8"
  }
 },
 "nbformat": 4,
 "nbformat_minor": 5
}
