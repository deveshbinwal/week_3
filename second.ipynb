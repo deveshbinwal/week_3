{
 "cells": [
  {
   "cell_type": "markdown",
   "id": "0c1e9169-7637-4c19-afff-926c96f0270e",
   "metadata": {},
   "source": [
    "Why *args and **kwargs is used in some functions? Create a function each for *args and **kwargs to\n",
    "demonstrate their use."
   ]
  },
  {
   "cell_type": "markdown",
   "id": "1f68e8d6-570d-4139-a8d0-ef5519ab72ee",
   "metadata": {},
   "source": [
    "We use *args and **kwargs as an argument when we are unsure about the number of arguments to pass in the functions, and **kwargs is used for showing data in form of key and value pair."
   ]
  },
  {
   "cell_type": "code",
   "execution_count": 6,
   "id": "816914c4-d494-4cd1-ba2b-7974589642a6",
   "metadata": {},
   "outputs": [],
   "source": [
    "#Use of *args function\n",
    "def args(*a):\n",
    "    sum=0\n",
    "    for i in a:\n",
    "        sum = sum+i\n",
    "    print(\"Sum:\",sum)"
   ]
  },
  {
   "cell_type": "code",
   "execution_count": 7,
   "id": "ccd2db78-5053-47f4-be32-b7d3107575e4",
   "metadata": {},
   "outputs": [
    {
     "name": "stdout",
     "output_type": "stream",
     "text": [
      "Sum: 15\n"
     ]
    }
   ],
   "source": [
    "args(1,2,3,4,5)"
   ]
  },
  {
   "cell_type": "code",
   "execution_count": 10,
   "id": "4a6d652a-b40d-4af0-aff5-435f60317c0f",
   "metadata": {},
   "outputs": [
    {
     "name": "stdout",
     "output_type": "stream",
     "text": [
      "Sum: 42\n"
     ]
    }
   ],
   "source": [
    "args(8,4,6,7,9,3,5)"
   ]
  },
  {
   "cell_type": "code",
   "execution_count": 15,
   "id": "a33a6082-4f50-4c03-be37-847b7c958c19",
   "metadata": {},
   "outputs": [],
   "source": [
    "#Program for **kwargs function\n",
    "\n",
    "def kwargs(**aa):\n",
    "    for i,j in aa.items():\n",
    "        print(\"{} is {}\".format(i,j))"
   ]
  },
  {
   "cell_type": "code",
   "execution_count": 16,
   "id": "6ccb25a7-7ae2-4e04-8565-d0cc4f519e67",
   "metadata": {},
   "outputs": [
    {
     "name": "stdout",
     "output_type": "stream",
     "text": [
      "Firstname is Devesh\n",
      "Lastname is Binwal\n",
      "Age is 22\n"
     ]
    }
   ],
   "source": [
    "kwargs(Firstname=\"Devesh\", Lastname=\"Binwal\", Age=\"22\")"
   ]
  },
  {
   "cell_type": "code",
   "execution_count": null,
   "id": "965b6cea-3ed5-44ae-be2d-d458cfda577d",
   "metadata": {},
   "outputs": [],
   "source": []
  }
 ],
 "metadata": {
  "kernelspec": {
   "display_name": "Python 3 (ipykernel)",
   "language": "python",
   "name": "python3"
  },
  "language_info": {
   "codemirror_mode": {
    "name": "ipython",
    "version": 3
   },
   "file_extension": ".py",
   "mimetype": "text/x-python",
   "name": "python",
   "nbconvert_exporter": "python",
   "pygments_lexer": "ipython3",
   "version": "3.10.8"
  }
 },
 "nbformat": 4,
 "nbformat_minor": 5
}
