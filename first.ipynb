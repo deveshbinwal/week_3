{
 "cells": [
  {
   "cell_type": "markdown",
   "id": "05358d46-8167-4249-a728-3a60b570a46a",
   "metadata": {},
   "source": [
    "Q1. Which keyword is used to create a function? Create a function to return a list of odd numbers in the\n",
    "range of 1 to 25."
   ]
  },
  {
   "cell_type": "markdown",
   "id": "16a0401c-41a0-4bfb-b184-f19e2389a29c",
   "metadata": {},
   "source": [
    "Ans- The def keyword is used to create a function"
   ]
  },
  {
   "cell_type": "code",
   "execution_count": 1,
   "id": "c3e3df5e-a096-4c01-afca-90a4ff14ca68",
   "metadata": {},
   "outputs": [],
   "source": [
    "#program to return a list of odd numbers in the range of 1 to 25."
   ]
  },
  {
   "cell_type": "code",
   "execution_count": 4,
   "id": "b0dc5f89-ced8-4d5b-a0c4-54b0c91462bf",
   "metadata": {},
   "outputs": [],
   "source": [
    "l=list(range(1,26))   "
   ]
  },
  {
   "cell_type": "code",
   "execution_count": 8,
   "id": "aed73eff-9325-4f32-a025-7cccac5f7952",
   "metadata": {},
   "outputs": [
    {
     "data": {
      "text/plain": [
       "[1, 3, 5, 7, 9, 11, 13, 15, 17, 19, 21, 23, 25]"
      ]
     },
     "execution_count": 8,
     "metadata": {},
     "output_type": "execute_result"
    }
   ],
   "source": [
    "list(filter(lambda x:x%2!=0,l))  #using filter funtion"
   ]
  },
  {
   "cell_type": "code",
   "execution_count": 13,
   "id": "53bc8011-bf36-4de9-9c98-9921eaf3e6ea",
   "metadata": {},
   "outputs": [],
   "source": [
    "def kok(a):            #usning normal for\n",
    "    fo=[]\n",
    "    for i in a:\n",
    "        if i%2==1:\n",
    "            fo.append(i)\n",
    "    return fo"
   ]
  },
  {
   "cell_type": "code",
   "execution_count": 14,
   "id": "15dbef46-d4dd-4006-8d08-5f9f03f06d1f",
   "metadata": {},
   "outputs": [
    {
     "data": {
      "text/plain": [
       "[1, 3, 5, 7, 9, 11, 13, 15, 17, 19, 21, 23, 25]"
      ]
     },
     "execution_count": 14,
     "metadata": {},
     "output_type": "execute_result"
    }
   ],
   "source": [
    "kok(l)"
   ]
  },
  {
   "cell_type": "code",
   "execution_count": null,
   "id": "99d13b64-3fea-4b5d-95a6-f2dd18d683a1",
   "metadata": {},
   "outputs": [],
   "source": []
  }
 ],
 "metadata": {
  "kernelspec": {
   "display_name": "Python 3 (ipykernel)",
   "language": "python",
   "name": "python3"
  },
  "language_info": {
   "codemirror_mode": {
    "name": "ipython",
    "version": 3
   },
   "file_extension": ".py",
   "mimetype": "text/x-python",
   "name": "python",
   "nbconvert_exporter": "python",
   "pygments_lexer": "ipython3",
   "version": "3.10.8"
  }
 },
 "nbformat": 4,
 "nbformat_minor": 5
}
